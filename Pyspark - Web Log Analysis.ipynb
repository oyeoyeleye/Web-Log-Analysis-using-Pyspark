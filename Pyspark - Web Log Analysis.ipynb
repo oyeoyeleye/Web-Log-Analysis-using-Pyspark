{
 "cells": [
  {
   "cell_type": "code",
   "execution_count": 9,
   "metadata": {},
   "outputs": [],
   "source": [
    "import os\n",
    "os.environ[\"PYSPARK_PYTHON\"]=\"/usr/bin/python3\""
   ]
  },
  {
   "cell_type": "code",
   "execution_count": 10,
   "metadata": {},
   "outputs": [],
   "source": [
    "sc.stop()"
   ]
  },
  {
   "cell_type": "code",
   "execution_count": 11,
   "metadata": {
    "scrolled": false
   },
   "outputs": [
    {
     "data": {
      "text/plain": [
       "1891715"
      ]
     },
     "execution_count": 11,
     "metadata": {},
     "output_type": "execute_result"
    }
   ],
   "source": [
    "from pyspark import SparkContext, SparkConf\n",
    "from pyspark.sql import SQLContext\n",
    "\n",
    "\n",
    "conf = SparkConf().setAppName(\"Spark-Logs-Handling\").setMaster(\"local[*]\")\n",
    "sc = SparkContext.getOrCreate(conf)\n",
    "\n",
    "sqlcontext = SQLContext(sc)\n",
    "rdd = sc.textFile(\"file:///home//hadoop/Downloads/access_log_Jul95\")\n",
    "rdd.count()"
   ]
  },
  {
   "cell_type": "code",
   "execution_count": 12,
   "metadata": {
    "scrolled": true
   },
   "outputs": [
    {
     "data": {
      "text/plain": [
       "['199.72.81.55 - - [01/Jul/1995:00:00:01 -0400] \"GET /history/apollo/ HTTP/1.0\" 200 6245',\n",
       " 'unicomp6.unicomp.net - - [01/Jul/1995:00:00:06 -0400] \"GET /shuttle/countdown/ HTTP/1.0\" 200 3985',\n",
       " '199.120.110.21 - - [01/Jul/1995:00:00:09 -0400] \"GET /shuttle/missions/sts-73/mission-sts-73.html HTTP/1.0\" 200 4085',\n",
       " 'burger.letters.com - - [01/Jul/1995:00:00:11 -0400] \"GET /shuttle/countdown/liftoff.html HTTP/1.0\" 304 0',\n",
       " '199.120.110.21 - - [01/Jul/1995:00:00:11 -0400] \"GET /shuttle/missions/sts-73/sts-73-patch-small.gif HTTP/1.0\" 200 4179']"
      ]
     },
     "execution_count": 12,
     "metadata": {},
     "output_type": "execute_result"
    }
   ],
   "source": [
    "rdd.take(5)"
   ]
  },
  {
   "cell_type": "markdown",
   "metadata": {},
   "source": [
    "#### Get IP address/host name\n",
    "\n",
    "This regex is at the start of the log and includes any non-white characted"
   ]
  },
  {
   "cell_type": "code",
   "execution_count": 13,
   "metadata": {},
   "outputs": [
    {
     "data": {
      "text/plain": [
       "['199.72.81.55',\n",
       " 'unicomp6.unicomp.net',\n",
       " '199.120.110.21',\n",
       " 'burger.letters.com']"
      ]
     },
     "execution_count": 13,
     "metadata": {},
     "output_type": "execute_result"
    }
   ],
   "source": [
    "import re\n",
    "rslt=(rdd.map(lambda line: re.search('\\S+',line).group(0)).take(4)) # Get the IP address \\host name\n",
    "rslt"
   ]
  },
  {
   "cell_type": "markdown",
   "metadata": {},
   "source": [
    "#### Get Timestamp"
   ]
  },
  {
   "cell_type": "code",
   "execution_count": 14,
   "metadata": {},
   "outputs": [
    {
     "data": {
      "text/plain": [
       "[('[01/Jul/1995:00:00:01 -0400',),\n",
       " ('[01/Jul/1995:00:00:06 -0400',),\n",
       " ('[01/Jul/1995:00:00:09 -0400',)]"
      ]
     },
     "execution_count": 14,
     "metadata": {},
     "output_type": "execute_result"
    }
   ],
   "source": [
    "rslt=(rdd.map(lambda line: re.search('(\\S+ -\\d{4})',line)\n",
    "    .groups())\n",
    "    .take(3))  #Get the  date\n",
    "rslt"
   ]
  },
  {
   "cell_type": "markdown",
   "metadata": {},
   "source": [
    "#### HTTP request\n",
    "\n",
    "Get the HTTP request sent to Web server \\w+ {GET}"
   ]
  },
  {
   "cell_type": "code",
   "execution_count": 15,
   "metadata": {},
   "outputs": [
    {
     "data": {
      "text/plain": [
       "[('/history/apollo/',),\n",
       " ('/shuttle/countdown/',),\n",
       " ('/shuttle/missions/sts-73/mission-sts-73.html',)]"
      ]
     },
     "execution_count": 15,
     "metadata": {},
     "output_type": "execute_result"
    }
   ],
   "source": [
    "# Get the REST call with \" \"\n",
    "rslt=(rdd.map(lambda line: re.search('\"\\w+\\s+([^\\s]+)\\s+HTTP.*\"',line)\n",
    "    .groups())\n",
    "    .take(3)) # Get the REST call\n",
    "rslt"
   ]
  },
  {
   "cell_type": "markdown",
   "metadata": {},
   "source": [
    "#### Get HTTP Response status\n",
    "\n",
    "Get the HTTP response to the request"
   ]
  },
  {
   "cell_type": "code",
   "execution_count": 16,
   "metadata": {},
   "outputs": [
    {
     "data": {
      "text/plain": [
       "[('200',), ('200',), ('200',)]"
      ]
     },
     "execution_count": 16,
     "metadata": {},
     "output_type": "execute_result"
    }
   ],
   "source": [
    "rslt=(rdd.map(lambda line: re.search('\"\\s(\\d{3})',line)\n",
    "    .groups())\n",
    "    .take(3)) #Get the status\n",
    "rslt"
   ]
  },
  {
   "cell_type": "markdown",
   "metadata": {},
   "source": [
    "### Get content size\n",
    "Get the HTTP response in bytes"
   ]
  },
  {
   "cell_type": "code",
   "execution_count": 17,
   "metadata": {},
   "outputs": [
    {
     "data": {
      "text/plain": [
       "[('6245',), ('3985',), ('4085',)]"
      ]
     },
     "execution_count": 17,
     "metadata": {},
     "output_type": "execute_result"
    }
   ],
   "source": [
    "rslt=(rdd.map(lambda line: re.search('^.*\\s(\\d*)$',line).groups()).take(3)) # Get the content size\n",
    "rslt"
   ]
  },
  {
   "cell_type": "markdown",
   "metadata": {},
   "source": [
    "Putting it all together\n",
    "Now put all the individual pieces together into 1 big regular expression and assign to the groups\n",
    "\n",
    "1. Host 2. Timestamp 3. Path 4. Status 5. Content_size"
   ]
  },
  {
   "cell_type": "code",
   "execution_count": 18,
   "metadata": {},
   "outputs": [
    {
     "data": {
      "text/plain": [
       "[('199.72.81.55',\n",
       "  ' -',\n",
       "  ' ',\n",
       "  '-',\n",
       "  '[01/Jul/1995:00:00:01 -0400]',\n",
       "  '\"GET /history/apollo/ HTTP/1.0\"',\n",
       "  '/history/apollo/',\n",
       "  '200 6245',\n",
       "  '6245'),\n",
       " ('unicomp6.unicomp.net',\n",
       "  ' -',\n",
       "  ' ',\n",
       "  '-',\n",
       "  '[01/Jul/1995:00:00:06 -0400]',\n",
       "  '\"GET /shuttle/countdown/ HTTP/1.0\"',\n",
       "  '/shuttle/countdown/',\n",
       "  '200 3985',\n",
       "  '3985'),\n",
       " ('199.120.110.21',\n",
       "  ' -',\n",
       "  ' ',\n",
       "  '-',\n",
       "  '[01/Jul/1995:00:00:09 -0400]',\n",
       "  '\"GET /shuttle/missions/sts-73/mission-sts-73.html HTTP/1.0\"',\n",
       "  '/shuttle/missions/sts-73/mission-sts-73.html',\n",
       "  '200 4085',\n",
       "  '4085')]"
      ]
     },
     "execution_count": 18,
     "metadata": {},
     "output_type": "execute_result"
    }
   ],
   "source": [
    "rslt=(rdd.map(lambda line: re.search('^(\\S+)((\\s)(-))+\\s(\\[\\S+ -\\d{4}\\])\\s(\"\\w+\\s+([^\\s]+)\\s+HTTP.*\")\\s(\\d{3}\\s(\\d*)$)',line)\n",
    "    .groups())\n",
    "    .take(3))\n",
    "rslt"
   ]
  },
  {
   "cell_type": "code",
   "execution_count": 19,
   "metadata": {},
   "outputs": [],
   "source": [
    "import re\n",
    "\n",
    "def parse_log1(line):\n",
    "    match = re.search('^(\\S+)((\\s)(-))+\\s(\\[\\S+ -\\d{4}\\])\\s(\"\\w+\\s+([^\\s]+)\\s+HTTP.*\")\\s(\\d{3}\\s(\\d*)$)',line)\n",
    "    if match is None:    \n",
    "        return(line,0)\n",
    "    else:\n",
    "        return(line,1)"
   ]
  },
  {
   "cell_type": "code",
   "execution_count": 20,
   "metadata": {},
   "outputs": [
    {
     "name": "stdout",
     "output_type": "stream",
     "text": [
      "Out of a total of 1891715 logs, 22781 failed to parse\n"
     ]
    },
    {
     "data": {
      "text/plain": [
       "[('dd15-062.compuserve.com - - [01/Jul/1995:00:01:12 -0400] \"GET /news/sci.space.shuttle/archive/sci-space-shuttle-22-apr-1995-40.txt HTTP/1.0\" 404 -',\n",
       "  0),\n",
       " ('dynip42.efn.org - - [01/Jul/1995:00:02:14 -0400] \"GET /software HTTP/1.0\" 302 -',\n",
       "  0),\n",
       " ('ix-or10-06.ix.netcom.com - - [01/Jul/1995:00:02:40 -0400] \"GET /software/winvn HTTP/1.0\" 302 -',\n",
       "  0)]"
      ]
     },
     "execution_count": 20,
     "metadata": {},
     "output_type": "execute_result"
    }
   ],
   "source": [
    "n_logs = rdd.count()\n",
    "failed = rdd.map(lambda line: parse_log1(line)).filter(lambda line: line[1] == 0).count()\n",
    "print('Out of a total of {} logs, {} failed to parse'.format(n_logs,failed))\n",
    "# Get the failed records line[1] == 0\n",
    "failed1=rdd.map(lambda line: parse_log1(line)).filter(lambda line: line[1]==0)\n",
    "failed1.take(3)"
   ]
  },
  {
   "cell_type": "code",
   "execution_count": 21,
   "metadata": {},
   "outputs": [],
   "source": [
    "import re\n",
    "def parse_log2(line):\n",
    "    # Parse logs with the rule below\n",
    "    match = re.search('^(\\S+)((\\s)(-))+\\s(\\[\\S+ -\\d{4}\\])\\s(\"\\w+\\s+([^\\s]+)\\s+HTTP.*\")\\s(\\d{3})\\s(\\d*)$',line)\n",
    "    # If match failed then use the rule below\n",
    "    if match is None:\n",
    "        match = re.search('^(\\S+)((\\s)(-))+\\s(\\[\\S+ -\\d{4}\\])\\s(\"\\w+\\s+([^\\s]+)\\s+HTTP.*\")\\s(\\d{3}\\s-$)',line)\n",
    "    if match is None:\n",
    "        return (line, 0) # Return 0 for failure\n",
    "    else:\n",
    "        return (line, 1) # Return 1 for success"
   ]
  },
  {
   "cell_type": "markdown",
   "metadata": {},
   "source": [
    "#### Group the different regex to groups for handling"
   ]
  },
  {
   "cell_type": "code",
   "execution_count": 22,
   "metadata": {},
   "outputs": [],
   "source": [
    "def map2groups(line):\n",
    "\n",
    "    match = re.search('^(\\S+)((\\s)(-))+\\s(\\[\\S+ -\\d{4}\\])\\s(\"\\w+\\s+([^\\s]+)\\s+HTTP.*\")\\s(\\d{3})\\s(\\d*)$',line)\n",
    "    if match is None:\n",
    "        match = re.search('^(\\S+)((\\s)(-))+\\s(\\[\\S+ -\\d{4}\\])\\s(\"\\w+\\s+([^\\s]+)\\s+HTTP.*\")\\s(\\d{3})\\s(-)$',line)\n",
    "    \n",
    "    return(match.groups())"
   ]
  },
  {
   "cell_type": "markdown",
   "metadata": {},
   "source": [
    "#### Parse the logs and map the groups"
   ]
  },
  {
   "cell_type": "code",
   "execution_count": 23,
   "metadata": {},
   "outputs": [],
   "source": [
    "parsed_rdd = rdd.map(lambda line: parse_log2(line)).filter(lambda line: line[1] == 1).map(lambda line : line[0])\n",
    "parsed_rdd2 = parsed_rdd.map(lambda line: map2groups(line))"
   ]
  },
  {
   "cell_type": "markdown",
   "metadata": {},
   "source": [
    "#### Compute Count of Hosts"
   ]
  },
  {
   "cell_type": "code",
   "execution_count": 24,
   "metadata": {},
   "outputs": [
    {
     "data": {
      "text/plain": [
       "[('piweba3y.prodigy.com', 17572),\n",
       " ('piweba4y.prodigy.com', 11591),\n",
       " ('piweba1y.prodigy.com', 9868),\n",
       " ('alyssa.prodigy.com', 7852),\n",
       " ('siltb10.orl.mmc.com', 7573),\n",
       " ('piweba2y.prodigy.com', 5922),\n",
       " ('edams.ksc.nasa.gov', 5434),\n",
       " ('163.206.89.4', 4906),\n",
       " ('news.ti.com', 4863),\n",
       " ('disarray.demon.co.uk', 4353)]"
      ]
     },
     "execution_count": 24,
     "metadata": {},
     "output_type": "execute_result"
    }
   ],
   "source": [
    "result = (parsed_rdd2.map(lambda line: (line[0],1))\n",
    "                     .reduceByKey(lambda a, b: a + b)\n",
    "                     .takeOrdered(10, lambda x: -x[1]))\n",
    "result"
   ]
  },
  {
   "cell_type": "markdown",
   "metadata": {},
   "source": [
    "#### Plot counts of hosts"
   ]
  },
  {
   "cell_type": "code",
   "execution_count": 32,
   "metadata": {},
   "outputs": [
    {
     "data": {
      "image/png": "[encoded data removed]",
      "text/plain": [
       "<Figure size 792x576 with 1 Axes>"
      ]
     },
     "metadata": {
      "needs_background": "light"
     },
     "output_type": "display_data"
    }
   ],
   "source": [
    "import seaborn as sns\n",
    "import pandas as pd\n",
    "import matplotlib.pyplot as plt\n",
    "df=pd.DataFrame(result,columns=['host','count'])\n",
    "plt.figure(figsize = (11,8))\n",
    "sns.barplot(x='host',y='count',data=df)\n",
    "# plt.subplots_adjust(bottom=0.6, right=0.8, top=0.9)\n",
    "plt.xticks(rotation=\"vertical\",fontsize=11)\n",
    "plt.show()"
   ]
  },
  {
   "cell_type": "markdown",
   "metadata": {},
   "source": [
    "#### Parse and map to hosts to groups"
   ]
  },
  {
   "cell_type": "code",
   "execution_count": 26,
   "metadata": {},
   "outputs": [
    {
     "data": {
      "text/plain": [
       "[('\"GET /images/NASA-logosmall.gif HTTP/1.0\"', 110679),\n",
       " ('\"GET /images/KSC-logosmall.gif HTTP/1.0\"', 89355),\n",
       " ('\"GET /images/MOSAIC-logosmall.gif HTTP/1.0\"', 59967),\n",
       " ('\"GET /images/USA-logosmall.gif HTTP/1.0\"', 59514),\n",
       " ('\"GET /images/WORLD-logosmall.gif HTTP/1.0\"', 58997),\n",
       " ('\"GET /images/ksclogo-medium.gif HTTP/1.0\"', 58411),\n",
       " ('\"GET /images/launch-logo.gif HTTP/1.0\"', 40780),\n",
       " ('\"GET /shuttle/countdown/ HTTP/1.0\"', 40132),\n",
       " ('\"GET /ksc.html HTTP/1.0\"', 39830),\n",
       " ('\"GET /images/ksclogosmall.gif HTTP/1.0\"', 33528)]"
      ]
     },
     "execution_count": 26,
     "metadata": {},
     "output_type": "execute_result"
    }
   ],
   "source": [
    "parsed_rdd = rdd.map(lambda line: parse_log2(line)).filter(lambda line: line[1] == 1).map(lambda line : line[0])\n",
    "parsed_rdd2 = parsed_rdd.map(lambda line: map2groups(line))\n",
    "rslt=(parsed_rdd2.map(lambda x:(x[5],1))\n",
    "                 .reduceByKey(lambda a,b:a+b)\n",
    "                 .takeOrdered(10, lambda x: -x[1]))\n",
    "rslt"
   ]
  },
  {
   "cell_type": "code",
   "execution_count": 27,
   "metadata": {},
   "outputs": [
    {
     "data": {
      "image/png": "[encoded data removed]",
      "text/plain": [
       "<Figure size 792x576 with 1 Axes>"
      ]
     },
     "metadata": {
      "needs_background": "light"
     },
     "output_type": "display_data"
    }
   ],
   "source": [
    "import seaborn as sns\n",
    "df=pd.DataFrame(rslt,columns=['path','count'])\n",
    "plt.figure(figsize = (11,8))\n",
    "sns.barplot(x='path',y='count',data=df, palette = 'RdPu')\n",
    "plt.xticks(rotation=\"vertical\",fontsize=8)\n",
    "display()"
   ]
  },
  {
   "cell_type": "markdown",
   "metadata": {},
   "source": [
    "#### Compute counts of HTTP response status"
   ]
  },
  {
   "cell_type": "code",
   "execution_count": 28,
   "metadata": {},
   "outputs": [
    {
     "data": {
      "text/plain": [
       "[('200', 1698491),\n",
       " ('304', 132626),\n",
       " ('302', 46545),\n",
       " ('404', 10711),\n",
       " ('500', 62),\n",
       " ('403', 54),\n",
       " ('501', 14)]"
      ]
     },
     "execution_count": 28,
     "metadata": {},
     "output_type": "execute_result"
    }
   ],
   "source": [
    "parsed_rdd = rdd.map(lambda line: parse_log2(line)).filter(lambda line: line[1] == 1).map(lambda line : line[0])\n",
    "parsed_rdd2 = parsed_rdd.map(lambda line: map2groups(line))\n",
    "rslt=(parsed_rdd2.map(lambda x:(x[7],1))\n",
    "                 .reduceByKey(lambda a,b:a+b)\n",
    "                 .takeOrdered(10, lambda x: -x[1]))\n",
    "rslt"
   ]
  },
  {
   "cell_type": "code",
   "execution_count": 29,
   "metadata": {},
   "outputs": [
    {
     "data": {
      "image/png": "[encoded data removed]",
      "text/plain": [
       "<Figure size 792x576 with 1 Axes>"
      ]
     },
     "metadata": {
      "needs_background": "light"
     },
     "output_type": "display_data"
    }
   ],
   "source": [
    "import seaborn as sns\n",
    "df=pd.DataFrame(rslt,columns=['status','count'])\n",
    "plt.figure(figsize = (11,8))\n",
    "sns.barplot(x='status',y='count',data=df, palette = 'RdPu')\n",
    "plt.xticks(rotation=\"vertical\",fontsize=8)\n",
    "display()"
   ]
  },
  {
   "cell_type": "markdown",
   "metadata": {},
   "source": [
    "#### Compute content size"
   ]
  },
  {
   "cell_type": "code",
   "execution_count": 30,
   "metadata": {},
   "outputs": [
    {
     "data": {
      "text/plain": [
       "[('0', 139615),\n",
       " ('786', 89572),\n",
       " ('1204', 76805),\n",
       " ('363', 53275),\n",
       " ('234', 52861),\n",
       " ('5866', 52531),\n",
       " ('669', 52508),\n",
       " ('1713', 36099),\n",
       " ('3635', 30387),\n",
       " ('1173', 28960)]"
      ]
     },
     "execution_count": 30,
     "metadata": {},
     "output_type": "execute_result"
    }
   ],
   "source": [
    "parsed_rdd = rdd.map(lambda line: parse_log2(line)).filter(lambda line: line[1] == 1).map(lambda line : line[0])\n",
    "parsed_rdd2 = parsed_rdd.map(lambda line: map2groups(line))\n",
    "rslt=(parsed_rdd2.map(lambda x:(x[8],1))\n",
    "                 .reduceByKey(lambda a,b:a+b)\n",
    "                 .takeOrdered(10, lambda x: -x[1]))\n",
    "rslt"
   ]
  },
  {
   "cell_type": "code",
   "execution_count": 31,
   "metadata": {},
   "outputs": [
    {
     "data": {
      "image/png": "[encoded data removed]",
      "text/plain": [
       "<Figure size 432x288 with 1 Axes>"
      ]
     },
     "metadata": {
      "needs_background": "light"
     },
     "output_type": "display_data"
    }
   ],
   "source": [
    "import seaborn as sns\n",
    "df=pd.DataFrame(rslt,columns=['status','count'])\n",
    "sns.barplot(x='status',y='count',data=df)\n",
    "plt.xticks(rotation=\"vertical\",fontsize=8)\n",
    "plt.show()"
   ]
  },
  {
   "cell_type": "code",
   "execution_count": null,
   "metadata": {},
   "outputs": [],
   "source": []
  }
 ],
 "metadata": {
  "kernelspec": {
   "display_name": "Python 3",
   "language": "python",
   "name": "python3"
  },
  "language_info": {
   "codemirror_mode": {
    "name": "ipython",
    "version": 3
   },
   "file_extension": ".py",
   "mimetype": "text/x-python",
   "name": "python",
   "nbconvert_exporter": "python",
   "pygments_lexer": "ipython3",
   "version": "3.8.5"
  }
 },
 "nbformat": 4,
 "nbformat_minor": 5
}
